{
 "cells": [
  {
   "cell_type": "code",
   "execution_count": 83,
   "id": "55a0d367",
   "metadata": {},
   "outputs": [
    {
     "name": "stdout",
     "output_type": "stream",
     "text": [
      "(8161, 1)\n"
     ]
    },
    {
     "ename": "NameError",
     "evalue": "name 'np' is not defined",
     "output_type": "error",
     "traceback": [
      "\u001b[0;31m---------------------------------------------------------------------------\u001b[0m",
      "\u001b[0;31mNameError\u001b[0m                                 Traceback (most recent call last)",
      "\u001b[0;32m/var/folders/k_/cqsl541x4r1d05zp22rc3cb80000gn/T/ipykernel_24556/2220144655.py\u001b[0m in \u001b[0;36m<module>\u001b[0;34m\u001b[0m\n\u001b[1;32m     17\u001b[0m \u001b[0mM\u001b[0m\u001b[0;34m=\u001b[0m\u001b[0;36m150\u001b[0m \u001b[0;31m#no de realisations\u001b[0m\u001b[0;34m\u001b[0m\u001b[0;34m\u001b[0m\u001b[0m\n\u001b[1;32m     18\u001b[0m \u001b[0;31m#construction de Wt:\u001b[0m\u001b[0;34m\u001b[0m\u001b[0;34m\u001b[0m\u001b[0m\n\u001b[0;32m---> 19\u001b[0;31m \u001b[0mWt\u001b[0m \u001b[0;34m=\u001b[0m \u001b[0mbrownian_motion\u001b[0m\u001b[0;34m(\u001b[0m\u001b[0mmaturity\u001b[0m \u001b[0;34m=\u001b[0m \u001b[0mT\u001b[0m\u001b[0;34m,\u001b[0m \u001b[0msteps\u001b[0m \u001b[0;34m=\u001b[0m \u001b[0mN\u001b[0m\u001b[0;34m,\u001b[0m \u001b[0mno_realisations\u001b[0m \u001b[0;34m=\u001b[0m \u001b[0mM\u001b[0m\u001b[0;34m)\u001b[0m\u001b[0;34m\u001b[0m\u001b[0;34m\u001b[0m\u001b[0m\n\u001b[0m\u001b[1;32m     20\u001b[0m \u001b[0;34m\u001b[0m\u001b[0m\n\u001b[1;32m     21\u001b[0m \u001b[0mplt\u001b[0m\u001b[0;34m.\u001b[0m\u001b[0mfigure\u001b[0m\u001b[0;34m(\u001b[0m\u001b[0;34m)\u001b[0m\u001b[0;34m\u001b[0m\u001b[0;34m\u001b[0m\u001b[0m\n",
      "\u001b[0;32m~/Documents/Technical_Analysis/brownian_motion.py\u001b[0m in \u001b[0;36mbrownian_motion\u001b[0;34m(maturity, steps, no_realisations)\u001b[0m\n\u001b[1;32m      3\u001b[0m \u001b[0;32mdef\u001b[0m \u001b[0mbrownian_motion\u001b[0m\u001b[0;34m(\u001b[0m\u001b[0mmaturity\u001b[0m \u001b[0;34m=\u001b[0m \u001b[0;36m1\u001b[0m\u001b[0;34m,\u001b[0m \u001b[0msteps\u001b[0m \u001b[0;34m=\u001b[0m \u001b[0;36m255\u001b[0m\u001b[0;34m,\u001b[0m \u001b[0mno_realisations\u001b[0m \u001b[0;34m=\u001b[0m \u001b[0;36m100\u001b[0m\u001b[0;34m)\u001b[0m\u001b[0;34m:\u001b[0m\u001b[0;34m\u001b[0m\u001b[0;34m\u001b[0m\u001b[0m\n\u001b[1;32m      4\u001b[0m \u001b[0;34m\u001b[0m\u001b[0m\n\u001b[0;32m----> 5\u001b[0;31m     \u001b[0mdt\u001b[0m \u001b[0;34m=\u001b[0m \u001b[0mmaturity\u001b[0m\u001b[0;34m/\u001b[0m\u001b[0msteps\u001b[0m\u001b[0;34m\u001b[0m\u001b[0;34m\u001b[0m\u001b[0m\n\u001b[0m\u001b[1;32m      6\u001b[0m \u001b[0;34m\u001b[0m\u001b[0m\n\u001b[1;32m      7\u001b[0m     \u001b[0mtimerange\u001b[0m \u001b[0;34m=\u001b[0m \u001b[0mnp\u001b[0m\u001b[0;34m.\u001b[0m\u001b[0mlinspace\u001b[0m\u001b[0;34m(\u001b[0m\u001b[0;36m0\u001b[0m\u001b[0;34m,\u001b[0m \u001b[0mmaturity\u001b[0m\u001b[0;34m,\u001b[0m \u001b[0msteps\u001b[0m \u001b[0;34m+\u001b[0m \u001b[0;36m1\u001b[0m\u001b[0;34m,\u001b[0m \u001b[0mendpoint\u001b[0m\u001b[0;34m=\u001b[0m\u001b[0;32mTrue\u001b[0m\u001b[0;34m)\u001b[0m\u001b[0;34m\u001b[0m\u001b[0;34m\u001b[0m\u001b[0m\n",
      "\u001b[0;31mNameError\u001b[0m: name 'np' is not defined"
     ]
    }
   ],
   "source": [
    "# -*- coding: utf-8 -*-\n",
    "\n",
    "#import pandas as pd\n",
    "import numpy as np\n",
    "import matplotlib.pyplot as plt\n",
    "from scipy.stats import norm\n",
    "from brownian_motion import *\n",
    "\n",
    "T=1 # temps final\n",
    "N=255*8*4\n",
    "dt=T/N\n",
    "timerange = np.linspace(0,T,N+1,endpoint=True)\n",
    "timerange=timerange[:,None]\n",
    "print(timerange.shape)\n",
    "\n",
    "\n",
    "M=150 #no de realisations\n",
    "#construction de Wt:\n",
    "Wt = brownian_motion(maturity = T, steps = N, no_realisations = M)\n",
    "\n",
    "plt.figure()\n",
    "plt.subplot(1,2,1)\n",
    "plt.plot(Wt)\n",
    "plt.title('Realisations du brownien')\n",
    "\n",
    "S0=100.0\n",
    "mu=0.1\n",
    "sigma=0.15\n",
    "taux_r=0.05\n",
    "\n",
    "def sousjacent(mu,sigma,t,Wt):\n",
    "  \"\"\" Rend les realisations de St une fois donne le tmps et Wt\n",
    "  avec la formule St = S0 * exp( (mu-sigma*sigma/2.0)*t + sigma*Wt)  \"\"\" \n",
    "  return S0*np.exp( (mu-sigma**2.0/2.0)*t+ sigma*Wt)\n",
    "\n",
    "St= sousjacent(mu,sigma,timerange,Wt)\n",
    "plt.subplot(1,2,2)\n",
    "plt.plot(St)\n",
    "plt.title('Realisations du sous-jacent')\n",
    "plt.savefig(\"realisations_Wt_St.jpg\")"
   ]
  },
  {
   "cell_type": "code",
   "execution_count": 53,
   "id": "d107e822",
   "metadata": {},
   "outputs": [],
   "source": [
    "def brownian_motion(maturity = 1, steps = 255, no_realisations = 100):\n",
    "    \n",
    "    dt = maturity/steps\n",
    "    \n",
    "    timerange = np.linspace(0, maturity, steps + 1, endpoint=True)\n",
    "    timerange = timerange[:,None]\n",
    "\n",
    "    Wt = np.zeros((steps + 1, no_realisations))\n",
    "    \n",
    "    dW = np.sqrt(dt) * np.random.randn(steps, no_realisations)\n",
    "    \n",
    "    Wt[1:,:] = np.cumsum(dW,0)\n",
    "    \n",
    "    return Wt"
   ]
  },
  {
   "cell_type": "code",
   "execution_count": null,
   "id": "57be3ea1",
   "metadata": {},
   "outputs": [
    {
     "ename": "",
     "evalue": "",
     "output_type": "error",
     "traceback": [
      "\u001b[1;31mLes cellules en cours d’exécution avec /usr/local/bin/python3 nécessitent ipykernel package.\n",
      "\u001b[1;31mExécutez la commande suivante pour installer 'ipykernel' dans l’environnement Python. \n",
      "\u001b[1;31mCommande : '/usr/local/bin/python3 -m pip install ipykernel -U --user --force-reinstall'"
     ]
    }
   ],
   "source": []
  },
  {
   "cell_type": "code",
   "execution_count": null,
   "id": "9b235aa4",
   "metadata": {},
   "outputs": [],
   "source": []
  },
  {
   "cell_type": "code",
   "execution_count": 7,
   "id": "13cbac0d",
   "metadata": {},
   "outputs": [
    {
     "name": "stdout",
     "output_type": "stream",
     "text": [
      "[[[0.00000000e+00]]\n",
      "\n",
      " [[1.22549020e-04]]\n",
      "\n",
      " [[2.45098039e-04]]\n",
      "\n",
      " ...\n",
      "\n",
      " [[9.99754902e-01]]\n",
      "\n",
      " [[9.99877451e-01]]\n",
      "\n",
      " [[1.00000000e+00]]]\n",
      "(8161, 1, 1)\n"
     ]
    }
   ],
   "source": [
    "timerange=timerange[:,None]\n",
    "print(timerange)\n",
    "print(timerange.shape)"
   ]
  },
  {
   "cell_type": "code",
   "execution_count": 10,
   "id": "33f94ee9",
   "metadata": {},
   "outputs": [
    {
     "data": {
      "text/plain": [
       "array([[[[0.00000000e+00]]],\n",
       "\n",
       "\n",
       "       [[[1.22549020e-04]]],\n",
       "\n",
       "\n",
       "       [[[2.45098039e-04]]],\n",
       "\n",
       "\n",
       "       ...,\n",
       "\n",
       "\n",
       "       [[[9.99754902e-01]]],\n",
       "\n",
       "\n",
       "       [[[9.99877451e-01]]],\n",
       "\n",
       "\n",
       "       [[[1.00000000e+00]]]])"
      ]
     },
     "execution_count": 10,
     "metadata": {},
     "output_type": "execute_result"
    }
   ],
   "source": [
    "timerange[:,None]"
   ]
  },
  {
   "cell_type": "code",
   "execution_count": null,
   "id": "2f0aa414",
   "metadata": {},
   "outputs": [],
   "source": []
  }
 ],
 "metadata": {
  "kernelspec": {
   "display_name": "Python 3",
   "language": "python",
   "name": "python3"
  },
  "language_info": {
   "codemirror_mode": {
    "name": "ipython",
    "version": 3
   },
   "file_extension": ".py",
   "mimetype": "text/x-python",
   "name": "python",
   "nbconvert_exporter": "python",
   "pygments_lexer": "ipython3",
   "version": "3.9.7 (default, Oct 13 2021, 06:45:31) \n[Clang 13.0.0 (clang-1300.0.29.3)]"
  },
  "vscode": {
   "interpreter": {
    "hash": "aee8b7b246df8f9039afb4144a1f6fd8d2ca17a180786b69acc140d282b71a49"
   }
  }
 },
 "nbformat": 4,
 "nbformat_minor": 5
}
